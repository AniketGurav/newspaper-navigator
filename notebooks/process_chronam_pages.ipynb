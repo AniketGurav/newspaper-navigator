{
 "cells": [
  {
   "cell_type": "markdown",
   "metadata": {},
   "source": [
    "# This notebook runs the finetuned image recognition model over Chroncling America pages\n",
    "\n",
    "Using the manifests folder generated using the repo chronam-get-images (https://github.com/bcglee/chronam-get-images), this notebook systematically downloads the JPG files from the 'ndnp-jpeg-surrogates' S3 bucket and the XML files from the 'ndnp-batches' S3 bucket. This notebook then generates predictions for each JPG image, grabs captions from the METS/ALTO OCR in the XML for each image, saves all of this metadata in JSON format, and then deletes old files.  "
   ]
  },
  {
   "cell_type": "code",
   "execution_count": 1,
   "metadata": {},
   "outputs": [],
   "source": [
    "import boto3\n",
    "import botocore\n",
    "import glob\n",
    "import sys\n",
    "import os\n",
    "import time\n",
    "from PIL import Image\n",
    "import io\n",
    "import math\n",
    "import datetime\n",
    "\n",
    "# sets destination for saving downloaded S3 files and destination for output files\n",
    "S3_SAVE_DIR = '../chronam_files/'\n",
    "OUTPUT_SAVE_DIR = '../chronam_output/'\n",
    "\n",
    "\n",
    "if not os.path.isdir(S3_SAVE_DIR):\n",
    "    os.mkdir(S3_SAVE_DIR)\n",
    "if not os.path.isdir(OUTPUT_SAVE_DIR):\n",
    "    os.mkdir(OUTPUT_SAVE_DIR)\n",
    "\n",
    "# sets boto3 to run with s3\n",
    "s3 = boto3.resource('s3')\n",
    "\n",
    "# function that retrieves .jpg and .xml files for each filepath in manifest\n",
    "def retrieve_files(manifest):\n",
    "    \n",
    "    ct = 0\n",
    "    \n",
    "    # read manifest\n",
    "    page_filepaths = open(manifest, \"r\").read().split('\\n')\n",
    "        \n",
    "    # iterate through each filepath and download\n",
    "    for page_filepath in page_filepaths:\n",
    "        \n",
    "        # sets filepath for download destination (note: file is .jp2, so we need to replace suffixes below)\n",
    "        local_filepath = S3_SAVE_DIR + page_filepath.replace('/', '_').replace('.jp2', '.jpg')\n",
    "\n",
    "        # see: https://boto3.amazonaws.com/v1/documentation/api/latest/guide/migrations3.html\n",
    "        # see also:  https://www.edureka.co/community/17558/python-aws-boto3-how-do-i-read-files-from-s3-bucket\n",
    "        try:\n",
    "            obj = s3.Object('ndnp-jpeg-surrogates', page_filepath.replace(\".jp2\", \".jpg\"))\n",
    "            body = obj.get()['Body'].read()\n",
    "            im = Image.open(io.BytesIO(body))\n",
    "            im.resize((math.floor(im.width/6), math.floor(im.height/6)), resample=0).save(local_filepath)\n",
    "\n",
    "        except botocore.exceptions.ClientError as e:\n",
    "            if e.response['Error']['Code'] == \"404\":\n",
    "                print(\"The object does not exist.\")\n",
    "            else:\n",
    "                raise\n",
    "                \n",
    "        try:\n",
    "            s3.Bucket('ndnp-batches').download_file(page_filepath.replace(\".jp2\", \".xml\"), local_filepath.replace(\".jpg\", \".xml\"))\n",
    "        except botocore.exceptions.ClientError as e:\n",
    "            if e.response['Error']['Code'] == \"404\":\n",
    "                print(\"The object does not exist.\")\n",
    "            else:\n",
    "                raise\n",
    "                \n",
    "        if ct % 10 == 0:\n",
    "            print(str(ct))\n",
    "            \n",
    "        if ct == 10:\n",
    "            break\n",
    "            \n",
    "        ct += 1"
   ]
  },
  {
   "cell_type": "code",
   "execution_count": 2,
   "metadata": {},
   "outputs": [
    {
     "name": "stdout",
     "output_type": "stream",
     "text": [
      "0\n",
      "10\n"
     ]
    }
   ],
   "source": [
    "# grabs all of the manifests\n",
    "## CURRENTLY IN CHRONAM-GET-IMAGES; EVENTUALLY USE IN NEWSPAPER NAVIGATOR\n",
    "manifests = glob.glob(\"../../chronam-get-images/manifests/*.txt\")\n",
    "\n",
    "for manifest in manifests[:1]:\n",
    "    retrieve_files(manifest)"
   ]
  },
  {
   "cell_type": "markdown",
   "metadata": {},
   "source": [
    "# This next cell loads the finetuned model and performs predictions on the images saved above\n",
    "\n",
    "- first cell handles imports and loading in finetuned model\n",
    "- second cell handles predictions"
   ]
  },
  {
   "cell_type": "code",
   "execution_count": 3,
   "metadata": {},
   "outputs": [],
   "source": [
    "# import some common libraries\n",
    "import cv2\n",
    "import random\n",
    "import glob\n",
    "import os\n",
    "import json\n",
    "import numpy as np\n",
    "import matplotlib.pyplot as plt\n",
    "# import detectron2, etc.\n",
    "import detectron2\n",
    "from detectron2.config import get_cfg\n",
    "from detectron2.data import DatasetCatalog, MetadataCatalog\n",
    "from detectron2.data.datasets import register_coco_instances\n",
    "from detectron2.engine import DefaultTrainer\n",
    "from detectron2.engine import DefaultPredictor\n",
    "from detectron2.evaluation import COCOEvaluator\n",
    "from detectron2.utils.visualizer import Visualizer\n",
    "from detectron2.utils.visualizer import ColorMode\n",
    "from detectron2.utils.logger import setup_logger\n",
    "\n",
    "setup_logger()\n",
    "\n",
    "cfg = get_cfg()\n",
    "# loads in correct pre-trained model parameters\n",
    "cfg.merge_from_file(\"../..//detectron2/configs/COCO-Detection/faster_rcnn_R_50_FPN_3x.yaml\")\n",
    "# loads pre-trained model weights (from Model Zoo)\n",
    "cfg.MODEL.WEIGHTS = \"../model_weights/model_final.pth\"\n",
    "# sets number of object classes\n",
    "# (5:  \"Illustration/Photograph\", \"Photograph\", \"Comics/Cartoon\", \"Editorial Cartoon\", \"Map\")\n",
    "cfg.MODEL.ROI_HEADS.NUM_CLASSES = 5\n",
    "# helps with re-sizing latency (see https://github.com/facebookresearch/detectron2/issues/73)\n",
    "# cfg.INPUT.MIN_SIZE_TEST = 0\n",
    "# cfg.INPUT_MAX_SIZE_TEST = 0\n",
    "\n",
    "predictor = DefaultPredictor(cfg)"
   ]
  },
  {
   "cell_type": "markdown",
   "metadata": {},
   "source": [
    "- need to figure out naming scheme for saving json files\n",
    "- need to add OCR caption extraction\n",
    "- need to progressively delete xml and jpg files to keep room"
   ]
  },
  {
   "cell_type": "code",
   "execution_count": 4,
   "metadata": {},
   "outputs": [
    {
     "name": "stdout",
     "output_type": "stream",
     "text": [
      "0\n",
      "10\n"
     ]
    }
   ],
   "source": [
    "ct = 0\n",
    "\n",
    "# now, we cd into the directory containing the downloaded files\n",
    "os.chdir(S3_SAVE_DIR)\n",
    "\n",
    "# iterate through images\n",
    "for im_filepath in glob.glob('*.jpg'):\n",
    "    \n",
    "    predictions = {}\n",
    "    \n",
    "    # saves file name in format of ChronAm file structure\n",
    "    predictions[\"file_name\"] = im_filepath.replace('_', '/')\n",
    "    \n",
    "    # saves date of publication\n",
    "    date_str = predictions[\"file_name\"].split('/')[-2]\n",
    "    predictions[\"date\"] = str(datetime.date(int(date_str[:4]), int(date_str[4:6]), int(date_str[6:8])))\n",
    "    \n",
    "    #opens image and predicts on it\n",
    "    outputs = predictor(cv2.imread(im_filepath))\n",
    "    \n",
    "    # saves predictions\n",
    "    predictions[\"boxes\"] = outputs[\"instances\"].get_fields()[\"pred_boxes\"].to(\"cpu\").tensor.tolist()\n",
    "    predictions[\"scores\"] = outputs[\"instances\"].get_fields()[\"scores\"].to(\"cpu\").tolist()\n",
    "    predictions[\"pred_classes\"] = outputs[\"instances\"].get_fields()[\"pred_classes\"].to(\"cpu\").tolist()\n",
    "    \n",
    "    if ct % 10 == 0:\n",
    "        print(ct)\n",
    "        \n",
    "    ct += 1\n",
    "    \n",
    "    with open(OUTPUT_SAVE_DIR + im_filepath.replace('.jpg','.json'), \"w\") as fp:\n",
    "        json.dump(predictions, fp)"
   ]
  },
  {
   "cell_type": "markdown",
   "metadata": {},
   "source": [
    "Now, we delete the JPG and XML files to save space:"
   ]
  },
  {
   "cell_type": "code",
   "execution_count": 5,
   "metadata": {},
   "outputs": [],
   "source": [
    "for path in glob.glob(\"*.xml\"):\n",
    "    os.remove(path)\n",
    "\n",
    "for path in glob.glob(\"*.jpg\"):\n",
    "    os.remove(path)"
   ]
  }
 ],
 "metadata": {
  "kernelspec": {
   "display_name": "Python 3",
   "language": "python",
   "name": "python3"
  },
  "language_info": {
   "codemirror_mode": {
    "name": "ipython",
    "version": 3
   },
   "file_extension": ".py",
   "mimetype": "text/x-python",
   "name": "python",
   "nbconvert_exporter": "python",
   "pygments_lexer": "ipython3",
   "version": "3.6.6"
  }
 },
 "nbformat": 4,
 "nbformat_minor": 2
}
